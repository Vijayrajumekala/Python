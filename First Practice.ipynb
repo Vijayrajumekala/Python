{
 "cells": [
  {
   "cell_type": "code",
   "execution_count": 11,
   "id": "56b5abec",
   "metadata": {},
   "outputs": [],
   "source": [
    "class Vegetables:\n",
    "    def __init__(self,tamato,onions,ladyfinger,bringal):\n",
    "        self.tamato=tamato\n",
    "        self.onions=onions\n",
    "        self.ladyfinger=ladyfinger\n",
    "        self.bringal=bringal\n",
    "    \n",
    "    \n",
    "    def tamato_1(self):\n",
    "    \n",
    "        print(f\"tamoto price is {self.tamato}\")\n",
    "    def onions_1(self):\n",
    "        \n",
    "        print(f\"onions price is {self.onions}\")\n",
    "    def ladyfinger_1(self):\n",
    "        \n",
    "        print(f\"ladyfinger price is {self.ladyfinger}\")\n",
    "    def bringal_1(self):\n",
    "        \n",
    "        print(f\"bringal price is {self.bringal}\")\n",
    "    \n",
    "    "
   ]
  },
  {
   "cell_type": "code",
   "execution_count": 12,
   "id": "0385e1a2",
   "metadata": {},
   "outputs": [],
   "source": [
    "veg=Vegetables(25,35,45,55)"
   ]
  },
  {
   "cell_type": "code",
   "execution_count": 13,
   "id": "7bd7560b",
   "metadata": {},
   "outputs": [
    {
     "name": "stdout",
     "output_type": "stream",
     "text": [
      "tamoto price is 25\n"
     ]
    }
   ],
   "source": [
    "veg.tamato_1()"
   ]
  },
  {
   "cell_type": "code",
   "execution_count": 14,
   "id": "8d55789e",
   "metadata": {},
   "outputs": [
    {
     "data": {
      "text/plain": [
       "'C:\\\\Users\\\\Crown\\\\Documents'"
      ]
     },
     "execution_count": 14,
     "metadata": {},
     "output_type": "execute_result"
    }
   ],
   "source": [
    "pwd"
   ]
  },
  {
   "cell_type": "code",
   "execution_count": null,
   "id": "51edc27e",
   "metadata": {},
   "outputs": [],
   "source": []
  }
 ],
 "metadata": {
  "kernelspec": {
   "display_name": "Python 3 (ipykernel)",
   "language": "python",
   "name": "python3"
  },
  "language_info": {
   "codemirror_mode": {
    "name": "ipython",
    "version": 3
   },
   "file_extension": ".py",
   "mimetype": "text/x-python",
   "name": "python",
   "nbconvert_exporter": "python",
   "pygments_lexer": "ipython3",
   "version": "3.9.7"
  }
 },
 "nbformat": 4,
 "nbformat_minor": 5
}
